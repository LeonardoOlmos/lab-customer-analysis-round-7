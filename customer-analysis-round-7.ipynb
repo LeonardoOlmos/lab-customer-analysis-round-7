{
 "cells": [
  {
   "cell_type": "markdown",
   "metadata": {},
   "source": [
    "# Customer Analysis Round 7"
   ]
  },
  {
   "cell_type": "code",
   "execution_count": 1,
   "metadata": {},
   "outputs": [],
   "source": [
    "# Import libraries\n",
    "\n",
    "import pandas as pd\n",
    "import numpy as np\n",
    "import seaborn as sns\n",
    "from sklearn.preprocessing import PowerTransformer\n",
    "from sklearn.linear_model import LinearRegression\n",
    "from sklearn.model_selection import train_test_split\n",
    "from sklearn.metrics import mean_squared_error as mse, mean_absolute_error as mae\n",
    "import statsmodels as sm"
   ]
  },
  {
   "cell_type": "code",
   "execution_count": 2,
   "metadata": {},
   "outputs": [],
   "source": [
    "# Get data\n",
    "\n",
    "df = pd.read_csv('./files_for_lab/csv_files/marketing_customer_analysis.csv')"
   ]
  },
  {
   "cell_type": "code",
   "execution_count": 3,
   "metadata": {},
   "outputs": [
    {
     "data": {
      "text/html": [
       "<div>\n",
       "<style scoped>\n",
       "    .dataframe tbody tr th:only-of-type {\n",
       "        vertical-align: middle;\n",
       "    }\n",
       "\n",
       "    .dataframe tbody tr th {\n",
       "        vertical-align: top;\n",
       "    }\n",
       "\n",
       "    .dataframe thead th {\n",
       "        text-align: right;\n",
       "    }\n",
       "</style>\n",
       "<table border=\"1\" class=\"dataframe\">\n",
       "  <thead>\n",
       "    <tr style=\"text-align: right;\">\n",
       "      <th></th>\n",
       "      <th>Customer</th>\n",
       "      <th>State</th>\n",
       "      <th>Customer Lifetime Value</th>\n",
       "      <th>Response</th>\n",
       "      <th>Coverage</th>\n",
       "      <th>Education</th>\n",
       "      <th>Effective To Date</th>\n",
       "      <th>EmploymentStatus</th>\n",
       "      <th>Gender</th>\n",
       "      <th>Income</th>\n",
       "      <th>...</th>\n",
       "      <th>Months Since Policy Inception</th>\n",
       "      <th>Number of Open Complaints</th>\n",
       "      <th>Number of Policies</th>\n",
       "      <th>Policy Type</th>\n",
       "      <th>Policy</th>\n",
       "      <th>Renew Offer Type</th>\n",
       "      <th>Sales Channel</th>\n",
       "      <th>Total Claim Amount</th>\n",
       "      <th>Vehicle Class</th>\n",
       "      <th>Vehicle Size</th>\n",
       "    </tr>\n",
       "  </thead>\n",
       "  <tbody>\n",
       "    <tr>\n",
       "      <th>0</th>\n",
       "      <td>BU79786</td>\n",
       "      <td>Washington</td>\n",
       "      <td>2763.519279</td>\n",
       "      <td>No</td>\n",
       "      <td>Basic</td>\n",
       "      <td>Bachelor</td>\n",
       "      <td>2/24/11</td>\n",
       "      <td>Employed</td>\n",
       "      <td>F</td>\n",
       "      <td>56274</td>\n",
       "      <td>...</td>\n",
       "      <td>5</td>\n",
       "      <td>0</td>\n",
       "      <td>1</td>\n",
       "      <td>Corporate Auto</td>\n",
       "      <td>Corporate L3</td>\n",
       "      <td>Offer1</td>\n",
       "      <td>Agent</td>\n",
       "      <td>384.811147</td>\n",
       "      <td>Two-Door Car</td>\n",
       "      <td>Medsize</td>\n",
       "    </tr>\n",
       "    <tr>\n",
       "      <th>1</th>\n",
       "      <td>QZ44356</td>\n",
       "      <td>Arizona</td>\n",
       "      <td>6979.535903</td>\n",
       "      <td>No</td>\n",
       "      <td>Extended</td>\n",
       "      <td>Bachelor</td>\n",
       "      <td>1/31/11</td>\n",
       "      <td>Unemployed</td>\n",
       "      <td>F</td>\n",
       "      <td>0</td>\n",
       "      <td>...</td>\n",
       "      <td>42</td>\n",
       "      <td>0</td>\n",
       "      <td>8</td>\n",
       "      <td>Personal Auto</td>\n",
       "      <td>Personal L3</td>\n",
       "      <td>Offer3</td>\n",
       "      <td>Agent</td>\n",
       "      <td>1131.464935</td>\n",
       "      <td>Four-Door Car</td>\n",
       "      <td>Medsize</td>\n",
       "    </tr>\n",
       "  </tbody>\n",
       "</table>\n",
       "<p>2 rows × 24 columns</p>\n",
       "</div>"
      ],
      "text/plain": [
       "  Customer       State  Customer Lifetime Value Response  Coverage Education  \\\n",
       "0  BU79786  Washington              2763.519279       No     Basic  Bachelor   \n",
       "1  QZ44356     Arizona              6979.535903       No  Extended  Bachelor   \n",
       "\n",
       "  Effective To Date EmploymentStatus Gender  Income  ...  \\\n",
       "0           2/24/11         Employed      F   56274  ...   \n",
       "1           1/31/11       Unemployed      F       0  ...   \n",
       "\n",
       "  Months Since Policy Inception Number of Open Complaints  Number of Policies  \\\n",
       "0                             5                         0                   1   \n",
       "1                            42                         0                   8   \n",
       "\n",
       "      Policy Type        Policy  Renew Offer Type  Sales Channel  \\\n",
       "0  Corporate Auto  Corporate L3            Offer1          Agent   \n",
       "1   Personal Auto   Personal L3            Offer3          Agent   \n",
       "\n",
       "  Total Claim Amount  Vehicle Class Vehicle Size  \n",
       "0         384.811147   Two-Door Car      Medsize  \n",
       "1        1131.464935  Four-Door Car      Medsize  \n",
       "\n",
       "[2 rows x 24 columns]"
      ]
     },
     "execution_count": 3,
     "metadata": {},
     "output_type": "execute_result"
    }
   ],
   "source": [
    "df.head(2)"
   ]
  },
  {
   "cell_type": "code",
   "execution_count": 4,
   "metadata": {},
   "outputs": [],
   "source": [
    "# Fomratting columns\n",
    "\n",
    "def columns_normalizer(df):\n",
    "    df.columns = [column.lower().replace(' ','_') for column in df.columns]\n",
    "    \n",
    "    return df"
   ]
  },
  {
   "cell_type": "code",
   "execution_count": 5,
   "metadata": {},
   "outputs": [
    {
     "data": {
      "text/html": [
       "<div>\n",
       "<style scoped>\n",
       "    .dataframe tbody tr th:only-of-type {\n",
       "        vertical-align: middle;\n",
       "    }\n",
       "\n",
       "    .dataframe tbody tr th {\n",
       "        vertical-align: top;\n",
       "    }\n",
       "\n",
       "    .dataframe thead th {\n",
       "        text-align: right;\n",
       "    }\n",
       "</style>\n",
       "<table border=\"1\" class=\"dataframe\">\n",
       "  <thead>\n",
       "    <tr style=\"text-align: right;\">\n",
       "      <th></th>\n",
       "      <th>customer</th>\n",
       "      <th>state</th>\n",
       "      <th>customer_lifetime_value</th>\n",
       "      <th>response</th>\n",
       "      <th>coverage</th>\n",
       "      <th>education</th>\n",
       "      <th>effective_to_date</th>\n",
       "      <th>employmentstatus</th>\n",
       "      <th>gender</th>\n",
       "      <th>income</th>\n",
       "      <th>...</th>\n",
       "      <th>months_since_policy_inception</th>\n",
       "      <th>number_of_open_complaints</th>\n",
       "      <th>number_of_policies</th>\n",
       "      <th>policy_type</th>\n",
       "      <th>policy</th>\n",
       "      <th>renew_offer_type</th>\n",
       "      <th>sales_channel</th>\n",
       "      <th>total_claim_amount</th>\n",
       "      <th>vehicle_class</th>\n",
       "      <th>vehicle_size</th>\n",
       "    </tr>\n",
       "  </thead>\n",
       "  <tbody>\n",
       "    <tr>\n",
       "      <th>0</th>\n",
       "      <td>BU79786</td>\n",
       "      <td>Washington</td>\n",
       "      <td>2763.519279</td>\n",
       "      <td>No</td>\n",
       "      <td>Basic</td>\n",
       "      <td>Bachelor</td>\n",
       "      <td>2/24/11</td>\n",
       "      <td>Employed</td>\n",
       "      <td>F</td>\n",
       "      <td>56274</td>\n",
       "      <td>...</td>\n",
       "      <td>5</td>\n",
       "      <td>0</td>\n",
       "      <td>1</td>\n",
       "      <td>Corporate Auto</td>\n",
       "      <td>Corporate L3</td>\n",
       "      <td>Offer1</td>\n",
       "      <td>Agent</td>\n",
       "      <td>384.811147</td>\n",
       "      <td>Two-Door Car</td>\n",
       "      <td>Medsize</td>\n",
       "    </tr>\n",
       "    <tr>\n",
       "      <th>1</th>\n",
       "      <td>QZ44356</td>\n",
       "      <td>Arizona</td>\n",
       "      <td>6979.535903</td>\n",
       "      <td>No</td>\n",
       "      <td>Extended</td>\n",
       "      <td>Bachelor</td>\n",
       "      <td>1/31/11</td>\n",
       "      <td>Unemployed</td>\n",
       "      <td>F</td>\n",
       "      <td>0</td>\n",
       "      <td>...</td>\n",
       "      <td>42</td>\n",
       "      <td>0</td>\n",
       "      <td>8</td>\n",
       "      <td>Personal Auto</td>\n",
       "      <td>Personal L3</td>\n",
       "      <td>Offer3</td>\n",
       "      <td>Agent</td>\n",
       "      <td>1131.464935</td>\n",
       "      <td>Four-Door Car</td>\n",
       "      <td>Medsize</td>\n",
       "    </tr>\n",
       "  </tbody>\n",
       "</table>\n",
       "<p>2 rows × 24 columns</p>\n",
       "</div>"
      ],
      "text/plain": [
       "  customer       state  customer_lifetime_value response  coverage education  \\\n",
       "0  BU79786  Washington              2763.519279       No     Basic  Bachelor   \n",
       "1  QZ44356     Arizona              6979.535903       No  Extended  Bachelor   \n",
       "\n",
       "  effective_to_date employmentstatus gender  income  ...  \\\n",
       "0           2/24/11         Employed      F   56274  ...   \n",
       "1           1/31/11       Unemployed      F       0  ...   \n",
       "\n",
       "  months_since_policy_inception number_of_open_complaints  number_of_policies  \\\n",
       "0                             5                         0                   1   \n",
       "1                            42                         0                   8   \n",
       "\n",
       "      policy_type        policy  renew_offer_type  sales_channel  \\\n",
       "0  Corporate Auto  Corporate L3            Offer1          Agent   \n",
       "1   Personal Auto   Personal L3            Offer3          Agent   \n",
       "\n",
       "  total_claim_amount  vehicle_class vehicle_size  \n",
       "0         384.811147   Two-Door Car      Medsize  \n",
       "1        1131.464935  Four-Door Car      Medsize  \n",
       "\n",
       "[2 rows x 24 columns]"
      ]
     },
     "execution_count": 5,
     "metadata": {},
     "output_type": "execute_result"
    }
   ],
   "source": [
    "# Checking cretaed df\n",
    "\n",
    "df = columns_normalizer(df)\n",
    "\n",
    "df.head(2)"
   ]
  },
  {
   "cell_type": "code",
   "execution_count": 6,
   "metadata": {},
   "outputs": [
    {
     "data": {
      "text/plain": [
       "(9134, 8)"
      ]
     },
     "execution_count": 6,
     "metadata": {},
     "output_type": "execute_result"
    }
   ],
   "source": [
    "# Getting numerical columns into a new df\n",
    "\n",
    "numerical_df = df.select_dtypes(np.number)\n",
    "\n",
    "numerical_df.shape"
   ]
  },
  {
   "cell_type": "code",
   "execution_count": 7,
   "metadata": {},
   "outputs": [
    {
     "data": {
      "text/plain": [
       "(9134, 16)"
      ]
     },
     "execution_count": 7,
     "metadata": {},
     "output_type": "execute_result"
    }
   ],
   "source": [
    "# Getting categorical columns into a new df\n",
    "\n",
    "categorical_df = df.select_dtypes(np.object)\n",
    "\n",
    "categorical_df.shape"
   ]
  },
  {
   "cell_type": "code",
   "execution_count": 8,
   "metadata": {},
   "outputs": [],
   "source": [
    "# X y split\n",
    "\n",
    "X = numerical_df.drop(columns=['total_claim_amount'])\n",
    "y = numerical_df['total_claim_amount']"
   ]
  },
  {
   "cell_type": "code",
   "execution_count": 9,
   "metadata": {},
   "outputs": [],
   "source": [
    "X_train, X_test, y_train, y_test = train_test_split(X, y, test_size = 0.25, random_state = 42)"
   ]
  },
  {
   "cell_type": "code",
   "execution_count": 10,
   "metadata": {},
   "outputs": [
    {
     "data": {
      "text/plain": [
       "LinearRegression()"
      ]
     },
     "execution_count": 10,
     "metadata": {},
     "output_type": "execute_result"
    }
   ],
   "source": [
    "# Linear regressión initial model\n",
    "\n",
    "linear_regression = LinearRegression()\n",
    "\n",
    "linear_regression.fit(X_train, y_train)"
   ]
  },
  {
   "cell_type": "code",
   "execution_count": 11,
   "metadata": {},
   "outputs": [],
   "source": [
    "# Initial model validation\n",
    "\n",
    "y_pred_train = linear_regression.predict(X_train)\n",
    "\n",
    "y_pred_test = linear_regression.predict(X_test)"
   ]
  },
  {
   "cell_type": "code",
   "execution_count": 12,
   "metadata": {},
   "outputs": [
    {
     "name": "stdout",
     "output_type": "stream",
     "text": [
      "Initial train score: 0.5217065876763483\n",
      "Initial test score: 0.508388170168562\n"
     ]
    }
   ],
   "source": [
    "initial_train_score = linear_regression.score(X_train, y_train) \n",
    "initial_test_score = linear_regression.score(X_test, y_test)\n",
    "\n",
    "print(f'Initial train score: {initial_train_score}')\n",
    "print(f'Initial test score: {initial_test_score}')"
   ]
  },
  {
   "cell_type": "code",
   "execution_count": 15,
   "metadata": {},
   "outputs": [
    {
     "name": "stdout",
     "output_type": "stream",
     "text": [
      "Initial train mean squared error: 40907.808600130185\n",
      "Initial test mean squared error: 39766.47607320747\n"
     ]
    }
   ],
   "source": [
    "initial_train_mse = mse(y_pred_train,y_train)\n",
    "initial_test_mse = mse(y_pred_test,y_test)\n",
    "\n",
    "print(f'Initial train mean squared error: {initial_train_mse}')\n",
    "print(f'Initial test mean squared error: {initial_test_mse}')"
   ]
  },
  {
   "cell_type": "code",
   "execution_count": 16,
   "metadata": {},
   "outputs": [
    {
     "name": "stdout",
     "output_type": "stream",
     "text": [
      "Initial train mean absolute error: 144.62280853347767\n",
      "Initial test mean absolute error: 144.22489077505315\n"
     ]
    }
   ],
   "source": [
    "initial_train_mae = mae(y_pred_train,y_train)\n",
    "initial_test_mae = mae(y_pred_test,y_test)\n",
    "\n",
    "print(f'Initial train mean absolute error: {initial_train_mae}')\n",
    "print(f'Initial test mean absolute error: {initial_test_mae}')"
   ]
  },
  {
   "cell_type": "code",
   "execution_count": 43,
   "metadata": {},
   "outputs": [],
   "source": [
    "# Improving linear model\n",
    "categorical_df = categorical_df.drop(columns=['customer'])\n",
    "\n",
    "categorical_encoded_df = pd.get_dummies(categorical_df, drop_first=True)"
   ]
  },
  {
   "cell_type": "code",
   "execution_count": 44,
   "metadata": {},
   "outputs": [
    {
     "data": {
      "text/plain": [
       "(9134, 101)"
      ]
     },
     "execution_count": 44,
     "metadata": {},
     "output_type": "execute_result"
    }
   ],
   "source": [
    "categorical_encoded_df.shape"
   ]
  },
  {
   "cell_type": "code",
   "execution_count": 45,
   "metadata": {},
   "outputs": [
    {
     "data": {
      "text/html": [
       "<div>\n",
       "<style scoped>\n",
       "    .dataframe tbody tr th:only-of-type {\n",
       "        vertical-align: middle;\n",
       "    }\n",
       "\n",
       "    .dataframe tbody tr th {\n",
       "        vertical-align: top;\n",
       "    }\n",
       "\n",
       "    .dataframe thead th {\n",
       "        text-align: right;\n",
       "    }\n",
       "</style>\n",
       "<table border=\"1\" class=\"dataframe\">\n",
       "  <thead>\n",
       "    <tr style=\"text-align: right;\">\n",
       "      <th></th>\n",
       "      <th>state_California</th>\n",
       "      <th>state_Nevada</th>\n",
       "      <th>state_Oregon</th>\n",
       "      <th>state_Washington</th>\n",
       "      <th>response_Yes</th>\n",
       "      <th>coverage_Extended</th>\n",
       "      <th>coverage_Premium</th>\n",
       "      <th>education_College</th>\n",
       "      <th>education_Doctor</th>\n",
       "      <th>education_High School or Below</th>\n",
       "      <th>...</th>\n",
       "      <th>sales_channel_Branch</th>\n",
       "      <th>sales_channel_Call Center</th>\n",
       "      <th>sales_channel_Web</th>\n",
       "      <th>vehicle_class_Luxury Car</th>\n",
       "      <th>vehicle_class_Luxury SUV</th>\n",
       "      <th>vehicle_class_SUV</th>\n",
       "      <th>vehicle_class_Sports Car</th>\n",
       "      <th>vehicle_class_Two-Door Car</th>\n",
       "      <th>vehicle_size_Medsize</th>\n",
       "      <th>vehicle_size_Small</th>\n",
       "    </tr>\n",
       "  </thead>\n",
       "  <tbody>\n",
       "    <tr>\n",
       "      <th>0</th>\n",
       "      <td>0</td>\n",
       "      <td>0</td>\n",
       "      <td>0</td>\n",
       "      <td>1</td>\n",
       "      <td>0</td>\n",
       "      <td>0</td>\n",
       "      <td>0</td>\n",
       "      <td>0</td>\n",
       "      <td>0</td>\n",
       "      <td>0</td>\n",
       "      <td>...</td>\n",
       "      <td>0</td>\n",
       "      <td>0</td>\n",
       "      <td>0</td>\n",
       "      <td>0</td>\n",
       "      <td>0</td>\n",
       "      <td>0</td>\n",
       "      <td>0</td>\n",
       "      <td>1</td>\n",
       "      <td>1</td>\n",
       "      <td>0</td>\n",
       "    </tr>\n",
       "  </tbody>\n",
       "</table>\n",
       "<p>1 rows × 101 columns</p>\n",
       "</div>"
      ],
      "text/plain": [
       "   state_California  state_Nevada  state_Oregon  state_Washington  \\\n",
       "0                 0             0             0                 1   \n",
       "\n",
       "   response_Yes  coverage_Extended  coverage_Premium  education_College  \\\n",
       "0             0                  0                 0                  0   \n",
       "\n",
       "   education_Doctor  education_High School or Below  ...  \\\n",
       "0                 0                               0  ...   \n",
       "\n",
       "   sales_channel_Branch  sales_channel_Call Center  sales_channel_Web  \\\n",
       "0                     0                          0                  0   \n",
       "\n",
       "   vehicle_class_Luxury Car  vehicle_class_Luxury SUV  vehicle_class_SUV  \\\n",
       "0                         0                         0                  0   \n",
       "\n",
       "   vehicle_class_Sports Car  vehicle_class_Two-Door Car  vehicle_size_Medsize  \\\n",
       "0                         0                           1                     1   \n",
       "\n",
       "   vehicle_size_Small  \n",
       "0                   0  \n",
       "\n",
       "[1 rows x 101 columns]"
      ]
     },
     "execution_count": 45,
     "metadata": {},
     "output_type": "execute_result"
    }
   ],
   "source": [
    "categorical_encoded_df.head(1)"
   ]
  },
  {
   "cell_type": "code",
   "execution_count": 46,
   "metadata": {},
   "outputs": [],
   "source": [
    "X_full = pd.concat([X, categorical_encoded_df], axis = 1)"
   ]
  },
  {
   "cell_type": "code",
   "execution_count": 47,
   "metadata": {},
   "outputs": [
    {
     "data": {
      "text/plain": [
       "(9134, 108)"
      ]
     },
     "execution_count": 47,
     "metadata": {},
     "output_type": "execute_result"
    }
   ],
   "source": [
    "X_full.shape"
   ]
  },
  {
   "cell_type": "code",
   "execution_count": 48,
   "metadata": {},
   "outputs": [],
   "source": [
    "X_full_train, X_full_test, y_train, y_test = train_test_split(X_full, y, test_size = 0.25, random_state = 42)"
   ]
  },
  {
   "cell_type": "code",
   "execution_count": null,
   "metadata": {},
   "outputs": [],
   "source": [
    "power_transofrmer = PowerTransformer(method='yeo-johnson', standardize=True)"
   ]
  },
  {
   "cell_type": "code",
   "execution_count": 54,
   "metadata": {},
   "outputs": [
    {
     "data": {
      "text/html": [
       "<div>\n",
       "<style scoped>\n",
       "    .dataframe tbody tr th:only-of-type {\n",
       "        vertical-align: middle;\n",
       "    }\n",
       "\n",
       "    .dataframe tbody tr th {\n",
       "        vertical-align: top;\n",
       "    }\n",
       "\n",
       "    .dataframe thead th {\n",
       "        text-align: right;\n",
       "    }\n",
       "</style>\n",
       "<table border=\"1\" class=\"dataframe\">\n",
       "  <thead>\n",
       "    <tr style=\"text-align: right;\">\n",
       "      <th></th>\n",
       "      <th>customer_lifetime_value</th>\n",
       "      <th>income</th>\n",
       "      <th>monthly_premium_auto</th>\n",
       "      <th>months_since_last_claim</th>\n",
       "      <th>months_since_policy_inception</th>\n",
       "      <th>number_of_open_complaints</th>\n",
       "      <th>number_of_policies</th>\n",
       "      <th>state_California</th>\n",
       "      <th>state_Nevada</th>\n",
       "      <th>state_Oregon</th>\n",
       "      <th>...</th>\n",
       "      <th>sales_channel_Branch</th>\n",
       "      <th>sales_channel_Call Center</th>\n",
       "      <th>sales_channel_Web</th>\n",
       "      <th>vehicle_class_Luxury Car</th>\n",
       "      <th>vehicle_class_Luxury SUV</th>\n",
       "      <th>vehicle_class_SUV</th>\n",
       "      <th>vehicle_class_Sports Car</th>\n",
       "      <th>vehicle_class_Two-Door Car</th>\n",
       "      <th>vehicle_size_Medsize</th>\n",
       "      <th>vehicle_size_Small</th>\n",
       "    </tr>\n",
       "  </thead>\n",
       "  <tbody>\n",
       "    <tr>\n",
       "      <th>0</th>\n",
       "      <td>-0.154555</td>\n",
       "      <td>0.807677</td>\n",
       "      <td>1.360867</td>\n",
       "      <td>1.657330</td>\n",
       "      <td>1.471319</td>\n",
       "      <td>-0.500344</td>\n",
       "      <td>-1.152021</td>\n",
       "      <td>1.370898</td>\n",
       "      <td>-0.333333</td>\n",
       "      <td>-0.629484</td>\n",
       "      <td>...</td>\n",
       "      <td>-0.625642</td>\n",
       "      <td>-0.492003</td>\n",
       "      <td>-0.409811</td>\n",
       "      <td>-0.142857</td>\n",
       "      <td>-0.143918</td>\n",
       "      <td>-0.497261</td>\n",
       "      <td>4.202957</td>\n",
       "      <td>-0.509563</td>\n",
       "      <td>0.64511</td>\n",
       "      <td>-0.485126</td>\n",
       "    </tr>\n",
       "    <tr>\n",
       "      <th>1</th>\n",
       "      <td>1.102186</td>\n",
       "      <td>-1.655812</td>\n",
       "      <td>1.806474</td>\n",
       "      <td>0.058035</td>\n",
       "      <td>0.799894</td>\n",
       "      <td>-0.500344</td>\n",
       "      <td>0.873446</td>\n",
       "      <td>-0.729449</td>\n",
       "      <td>-0.333333</td>\n",
       "      <td>1.588604</td>\n",
       "      <td>...</td>\n",
       "      <td>-0.625642</td>\n",
       "      <td>-0.492003</td>\n",
       "      <td>-0.409811</td>\n",
       "      <td>-0.142857</td>\n",
       "      <td>6.948423</td>\n",
       "      <td>-0.497261</td>\n",
       "      <td>-0.237928</td>\n",
       "      <td>-0.509563</td>\n",
       "      <td>0.64511</td>\n",
       "      <td>-0.485126</td>\n",
       "    </tr>\n",
       "    <tr>\n",
       "      <th>2</th>\n",
       "      <td>0.434349</td>\n",
       "      <td>0.401585</td>\n",
       "      <td>0.584358</td>\n",
       "      <td>1.188175</td>\n",
       "      <td>0.162640</td>\n",
       "      <td>1.953933</td>\n",
       "      <td>1.126458</td>\n",
       "      <td>1.370898</td>\n",
       "      <td>-0.333333</td>\n",
       "      <td>-0.629484</td>\n",
       "      <td>...</td>\n",
       "      <td>1.598358</td>\n",
       "      <td>-0.492003</td>\n",
       "      <td>-0.409811</td>\n",
       "      <td>-0.142857</td>\n",
       "      <td>-0.143918</td>\n",
       "      <td>-0.497261</td>\n",
       "      <td>-0.237928</td>\n",
       "      <td>1.962467</td>\n",
       "      <td>0.64511</td>\n",
       "      <td>-0.485126</td>\n",
       "    </tr>\n",
       "  </tbody>\n",
       "</table>\n",
       "<p>3 rows × 108 columns</p>\n",
       "</div>"
      ],
      "text/plain": [
       "   customer_lifetime_value    income  monthly_premium_auto  \\\n",
       "0                -0.154555  0.807677              1.360867   \n",
       "1                 1.102186 -1.655812              1.806474   \n",
       "2                 0.434349  0.401585              0.584358   \n",
       "\n",
       "   months_since_last_claim  months_since_policy_inception  \\\n",
       "0                 1.657330                       1.471319   \n",
       "1                 0.058035                       0.799894   \n",
       "2                 1.188175                       0.162640   \n",
       "\n",
       "   number_of_open_complaints  number_of_policies  state_California  \\\n",
       "0                  -0.500344           -1.152021          1.370898   \n",
       "1                  -0.500344            0.873446         -0.729449   \n",
       "2                   1.953933            1.126458          1.370898   \n",
       "\n",
       "   state_Nevada  state_Oregon  ...  sales_channel_Branch  \\\n",
       "0     -0.333333     -0.629484  ...             -0.625642   \n",
       "1     -0.333333      1.588604  ...             -0.625642   \n",
       "2     -0.333333     -0.629484  ...              1.598358   \n",
       "\n",
       "   sales_channel_Call Center  sales_channel_Web  vehicle_class_Luxury Car  \\\n",
       "0                  -0.492003          -0.409811                 -0.142857   \n",
       "1                  -0.492003          -0.409811                 -0.142857   \n",
       "2                  -0.492003          -0.409811                 -0.142857   \n",
       "\n",
       "   vehicle_class_Luxury SUV  vehicle_class_SUV  vehicle_class_Sports Car  \\\n",
       "0                 -0.143918          -0.497261                  4.202957   \n",
       "1                  6.948423          -0.497261                 -0.237928   \n",
       "2                 -0.143918          -0.497261                 -0.237928   \n",
       "\n",
       "   vehicle_class_Two-Door Car  vehicle_size_Medsize  vehicle_size_Small  \n",
       "0                   -0.509563               0.64511           -0.485126  \n",
       "1                   -0.509563               0.64511           -0.485126  \n",
       "2                    1.962467               0.64511           -0.485126  \n",
       "\n",
       "[3 rows x 108 columns]"
      ]
     },
     "execution_count": 54,
     "metadata": {},
     "output_type": "execute_result"
    }
   ],
   "source": [
    "power_transofrmer.fit(X_full_train)\n",
    "\n",
    "X_train_power_transofrmer = power_transofrmer.transform(X_full_train)\n",
    "\n",
    "df_X_train_power_transofrmer = pd.DataFrame(X_train_power_transofrmer, columns=X_full_train.columns)\n",
    "\n",
    "df_X_train_power_transofrmer.head(3)"
   ]
  },
  {
   "cell_type": "code",
   "execution_count": 55,
   "metadata": {},
   "outputs": [
    {
     "data": {
      "text/html": [
       "<div>\n",
       "<style scoped>\n",
       "    .dataframe tbody tr th:only-of-type {\n",
       "        vertical-align: middle;\n",
       "    }\n",
       "\n",
       "    .dataframe tbody tr th {\n",
       "        vertical-align: top;\n",
       "    }\n",
       "\n",
       "    .dataframe thead th {\n",
       "        text-align: right;\n",
       "    }\n",
       "</style>\n",
       "<table border=\"1\" class=\"dataframe\">\n",
       "  <thead>\n",
       "    <tr style=\"text-align: right;\">\n",
       "      <th></th>\n",
       "      <th>customer_lifetime_value</th>\n",
       "      <th>income</th>\n",
       "      <th>monthly_premium_auto</th>\n",
       "      <th>months_since_last_claim</th>\n",
       "      <th>months_since_policy_inception</th>\n",
       "      <th>number_of_open_complaints</th>\n",
       "      <th>number_of_policies</th>\n",
       "      <th>state_California</th>\n",
       "      <th>state_Nevada</th>\n",
       "      <th>state_Oregon</th>\n",
       "      <th>...</th>\n",
       "      <th>sales_channel_Branch</th>\n",
       "      <th>sales_channel_Call Center</th>\n",
       "      <th>sales_channel_Web</th>\n",
       "      <th>vehicle_class_Luxury Car</th>\n",
       "      <th>vehicle_class_Luxury SUV</th>\n",
       "      <th>vehicle_class_SUV</th>\n",
       "      <th>vehicle_class_Sports Car</th>\n",
       "      <th>vehicle_class_Two-Door Car</th>\n",
       "      <th>vehicle_size_Medsize</th>\n",
       "      <th>vehicle_size_Small</th>\n",
       "    </tr>\n",
       "  </thead>\n",
       "  <tbody>\n",
       "    <tr>\n",
       "      <th>0</th>\n",
       "      <td>-0.580388</td>\n",
       "      <td>0.892951</td>\n",
       "      <td>0.782412</td>\n",
       "      <td>-1.675324</td>\n",
       "      <td>0.129050</td>\n",
       "      <td>-0.500344</td>\n",
       "      <td>-1.152021</td>\n",
       "      <td>1.370898</td>\n",
       "      <td>-0.333333</td>\n",
       "      <td>-0.629484</td>\n",
       "      <td>...</td>\n",
       "      <td>-0.625642</td>\n",
       "      <td>-0.492003</td>\n",
       "      <td>-0.409811</td>\n",
       "      <td>-0.142857</td>\n",
       "      <td>-0.143918</td>\n",
       "      <td>2.011015</td>\n",
       "      <td>-0.237928</td>\n",
       "      <td>-0.509563</td>\n",
       "      <td>0.645110</td>\n",
       "      <td>-0.485126</td>\n",
       "    </tr>\n",
       "    <tr>\n",
       "      <th>1</th>\n",
       "      <td>-0.116343</td>\n",
       "      <td>0.148364</td>\n",
       "      <td>-0.709595</td>\n",
       "      <td>-0.698111</td>\n",
       "      <td>-1.431989</td>\n",
       "      <td>-0.500344</td>\n",
       "      <td>0.873446</td>\n",
       "      <td>-0.729449</td>\n",
       "      <td>-0.333333</td>\n",
       "      <td>1.588604</td>\n",
       "      <td>...</td>\n",
       "      <td>-0.625642</td>\n",
       "      <td>-0.492003</td>\n",
       "      <td>-0.409811</td>\n",
       "      <td>-0.142857</td>\n",
       "      <td>-0.143918</td>\n",
       "      <td>-0.497261</td>\n",
       "      <td>-0.237928</td>\n",
       "      <td>1.962467</td>\n",
       "      <td>0.645110</td>\n",
       "      <td>-0.485126</td>\n",
       "    </tr>\n",
       "    <tr>\n",
       "      <th>2</th>\n",
       "      <td>-0.771454</td>\n",
       "      <td>1.079498</td>\n",
       "      <td>0.420686</td>\n",
       "      <td>-1.278645</td>\n",
       "      <td>-0.254527</td>\n",
       "      <td>-0.500344</td>\n",
       "      <td>-1.152021</td>\n",
       "      <td>-0.729449</td>\n",
       "      <td>-0.333333</td>\n",
       "      <td>1.588604</td>\n",
       "      <td>...</td>\n",
       "      <td>-0.625642</td>\n",
       "      <td>-0.492003</td>\n",
       "      <td>-0.409811</td>\n",
       "      <td>-0.142857</td>\n",
       "      <td>-0.143918</td>\n",
       "      <td>-0.497261</td>\n",
       "      <td>-0.237928</td>\n",
       "      <td>1.962467</td>\n",
       "      <td>-1.550123</td>\n",
       "      <td>2.061320</td>\n",
       "    </tr>\n",
       "  </tbody>\n",
       "</table>\n",
       "<p>3 rows × 108 columns</p>\n",
       "</div>"
      ],
      "text/plain": [
       "   customer_lifetime_value    income  monthly_premium_auto  \\\n",
       "0                -0.580388  0.892951              0.782412   \n",
       "1                -0.116343  0.148364             -0.709595   \n",
       "2                -0.771454  1.079498              0.420686   \n",
       "\n",
       "   months_since_last_claim  months_since_policy_inception  \\\n",
       "0                -1.675324                       0.129050   \n",
       "1                -0.698111                      -1.431989   \n",
       "2                -1.278645                      -0.254527   \n",
       "\n",
       "   number_of_open_complaints  number_of_policies  state_California  \\\n",
       "0                  -0.500344           -1.152021          1.370898   \n",
       "1                  -0.500344            0.873446         -0.729449   \n",
       "2                  -0.500344           -1.152021         -0.729449   \n",
       "\n",
       "   state_Nevada  state_Oregon  ...  sales_channel_Branch  \\\n",
       "0     -0.333333     -0.629484  ...             -0.625642   \n",
       "1     -0.333333      1.588604  ...             -0.625642   \n",
       "2     -0.333333      1.588604  ...             -0.625642   \n",
       "\n",
       "   sales_channel_Call Center  sales_channel_Web  vehicle_class_Luxury Car  \\\n",
       "0                  -0.492003          -0.409811                 -0.142857   \n",
       "1                  -0.492003          -0.409811                 -0.142857   \n",
       "2                  -0.492003          -0.409811                 -0.142857   \n",
       "\n",
       "   vehicle_class_Luxury SUV  vehicle_class_SUV  vehicle_class_Sports Car  \\\n",
       "0                 -0.143918           2.011015                 -0.237928   \n",
       "1                 -0.143918          -0.497261                 -0.237928   \n",
       "2                 -0.143918          -0.497261                 -0.237928   \n",
       "\n",
       "   vehicle_class_Two-Door Car  vehicle_size_Medsize  vehicle_size_Small  \n",
       "0                   -0.509563              0.645110           -0.485126  \n",
       "1                    1.962467              0.645110           -0.485126  \n",
       "2                    1.962467             -1.550123            2.061320  \n",
       "\n",
       "[3 rows x 108 columns]"
      ]
     },
     "execution_count": 55,
     "metadata": {},
     "output_type": "execute_result"
    }
   ],
   "source": [
    "X_test_power_transofrmer = power_transofrmer.transform(X_full_test)\n",
    "df_X_test_power_transofrmer = pd.DataFrame(X_test_power_transofrmer, columns=X_full_train.columns)\n",
    "df_X_test_power_transofrmer.head(3)"
   ]
  },
  {
   "cell_type": "code",
   "execution_count": 56,
   "metadata": {},
   "outputs": [
    {
     "data": {
      "text/plain": [
       "LinearRegression()"
      ]
     },
     "execution_count": 56,
     "metadata": {},
     "output_type": "execute_result"
    }
   ],
   "source": [
    "# Linear regressión imporved model\n",
    "\n",
    "linear_regression_power_transformer = LinearRegression()\n",
    "\n",
    "linear_regression.fit(df_X_train_power_transofrmer, y_train)"
   ]
  },
  {
   "cell_type": "code",
   "execution_count": 57,
   "metadata": {},
   "outputs": [],
   "source": [
    "y_pred_train_power_transformer = linear_regression.predict(df_X_train_power_transofrmer)\n",
    "\n",
    "y_pred_test_power_transformer = linear_regression.predict(df_X_test_power_transofrmer)"
   ]
  },
  {
   "cell_type": "code",
   "execution_count": 58,
   "metadata": {},
   "outputs": [
    {
     "name": "stdout",
     "output_type": "stream",
     "text": [
      "Improved train score: 0.7662744283170818\n",
      "Improved test score: 0.7407299461385161\n"
     ]
    }
   ],
   "source": [
    "improved_train_score = linear_regression.score(df_X_train_power_transofrmer, y_train) \n",
    "improved_test_score = linear_regression.score(df_X_test_power_transofrmer, y_test)\n",
    "\n",
    "print(f'Improved train score: {improved_train_score}')\n",
    "print(f'Improved test score: {improved_test_score}')"
   ]
  },
  {
   "cell_type": "code",
   "execution_count": 59,
   "metadata": {},
   "outputs": [
    {
     "name": "stdout",
     "output_type": "stream",
     "text": [
      "Improved train mean squared error: 19990.241774208145\n",
      "Improved test mean squared error: 20972.352103319106\n"
     ]
    }
   ],
   "source": [
    "improved_train_mse = mse(y_pred_train_power_transformer,y_train)\n",
    "improved_test_mse = mse(y_pred_test_power_transformer,y_test)\n",
    "\n",
    "print(f'Improved train mean squared error: {improved_train_mse}')\n",
    "print(f'Improved test mean squared error: {improved_test_mse}')"
   ]
  },
  {
   "cell_type": "code",
   "execution_count": 60,
   "metadata": {},
   "outputs": [
    {
     "name": "stdout",
     "output_type": "stream",
     "text": [
      "Improved train mean absolute error: 97.08688351478783\n",
      "Improved test mean absolute error: 98.13592782803379\n"
     ]
    }
   ],
   "source": [
    "improved_train_mae = mae(y_pred_train_power_transformer,y_train)\n",
    "improved_test_mae = mae(y_pred_test_power_transformer,y_test)\n",
    "\n",
    "print(f'Improved train mean absolute error: {improved_train_mae}')\n",
    "print(f'Improved test mean absolute error: {improved_test_mae}')"
   ]
  },
  {
   "cell_type": "code",
   "execution_count": null,
   "metadata": {},
   "outputs": [],
   "source": []
  }
 ],
 "metadata": {
  "kernelspec": {
   "display_name": "Python 3",
   "language": "python",
   "name": "python3"
  },
  "language_info": {
   "codemirror_mode": {
    "name": "ipython",
    "version": 3
   },
   "file_extension": ".py",
   "mimetype": "text/x-python",
   "name": "python",
   "nbconvert_exporter": "python",
   "pygments_lexer": "ipython3",
   "version": "3.8.5"
  }
 },
 "nbformat": 4,
 "nbformat_minor": 4
}
